{
 "cells": [
  {
   "cell_type": "code",
   "execution_count": null,
   "metadata": {},
   "outputs": [],
   "source": [
    "import numpy as np\n",
    "import matplotlib as mpl\n",
    "import pylab\n",
    "from libtiff import TIFFfile\n",
    "from libtiff import TIFF\n",
    "import os\n",
    "from scipy import interpolate\n",
    "import cPickle\n",
    "import scipy.ndimage as ndimage\n",
    "[]"
   ]
  },
  {
   "cell_type": "code",
   "execution_count": null,
   "metadata": {},
   "outputs": [],
   "source": [
    "LineArraysFile=open(\"Pkls/TrimmedLineArraysBGSub.pkl\")\n",
    "LineArrays=cPickle.load(LineArraysFile)\n",
    "XSize=118"
   ]
  },
  {
   "cell_type": "code",
   "execution_count": null,
   "metadata": {},
   "outputs": [],
   "source": [
    "def AssembleLines(LineArraysIn):\n",
    "    LensAll=[]\n",
    "    AvesAll=[]\n",
    "    for i in LineArraysIn:\n",
    "        LensAll.append(len(i[0]))\n",
    "        AvesAll.append(np.mean(i))\n",
    "    YSize=len(LineArraysIn[0])\n",
    "    BGVal=np.mean(AvesAll)\n",
    "    MaxLen=max(LensAll)\n",
    "    FullArray=np.ndarray(shape=(len(LineArraysIn)*YSize,MaxLen))\n",
    "    for i in range(0,len(LineArraysIn)):\n",
    "        for a in range(0,len(LineArraysIn[i][0])):\n",
    "            for j in range(0,YSize):\n",
    "                FullArray[int(i*YSize+j),a]=LineArraysIn[i][int(YSize-j-1),a]\n",
    "        for a in range(len(LineArraysIn[i][0]),max(LensAll)):\n",
    "            for j in range(0,YSize):\n",
    "                FullArray[i*YSize+j,a]=BGVal\n",
    "    return FullArray\n",
    "\n",
    "\n",
    "\n",
    "\n"
   ]
  },
  {
   "cell_type": "code",
   "execution_count": null,
   "metadata": {},
   "outputs": [],
   "source": [
    "wpsleftall=[]\n",
    "wpsrightall=[]\n",
    "lengthsall=[]\n",
    "dividersall=[]\n",
    "for i in range(0,len(LineArrays)):\n",
    "    wpsleft=[]\n",
    "    wpsright=[]\n",
    "    wp=np.loadtxt(\"./WordPos/WordPos\"+str(i)+\".csv\",delimiter=',')\n",
    "    pylab.imshow(LineArrays[i][::-1],cmap='binary')\n",
    "    first=True\n",
    "    for wordedge in wp:\n",
    "        if(first):\n",
    "            wpsleft.append(wordedge[0])\n",
    "            first=False\n",
    "        else:\n",
    "            wpsright.append(wordedge[0])\n",
    "            first=True\n",
    "            pylab.plot([wpsleft[-1],wpsright[-1]],[150,150],color='pink',linewidth=2)\n",
    "    pylab.show()\n",
    "    wpsleftall.append(wpsleft)\n",
    "    wpsrightall.append(wpsright)\n",
    "    lengthsall.append(np.array(wpsright)-np.array(wpsleft))\n",
    "    dividersall.append(np.array(wpsleft[1:]+wpsright[:-1])/2.)"
   ]
  },
  {
   "cell_type": "code",
   "execution_count": null,
   "metadata": {},
   "outputs": [],
   "source": [
    "pylab.figure(figsize=(5,2))\n",
    "pylab.imshow(AssembleLines(LineArrays),cmap='binary')\n",
    "for i in range(0,len(wpsleftall)):\n",
    "    for j in range(0,len(wpsleftall[i])):\n",
    "        pylab.plot([wpsleftall[i][j],wpsrightall[i][j]],[85+220*i,85+220*i],'o-',color='pink',linewidth=2.,alpha=1)\n",
    "#    pylab.plot([wpsleftall[1][-1],wpsrightall[1][-1]],[85+170,85+170],'o-',color='skyblue',linewidth=2.)\n",
    "pylab.savefig(\"Plots/WordLimitsMarked.png\",dpi=200)\n"
   ]
  },
  {
   "cell_type": "code",
   "execution_count": null,
   "metadata": {},
   "outputs": [],
   "source": [
    "CharWidthRef=-(wpsleftall[1][-1]-wpsrightall[1][-1])/2."
   ]
  },
  {
   "cell_type": "code",
   "execution_count": null,
   "metadata": {},
   "outputs": [],
   "source": [
    "meandiscrepancy=[]\n",
    "CharOptions=range(100,135)\n",
    "for charlength in CharOptions:\n",
    "    WordLetters=[]\n",
    "    for i in range(0,len(wpsleftall)):\n",
    "        WordLetters.append([])\n",
    "        #print (\"Line \"+str(i))\n",
    "        for j in range(0,len(wpsleftall[i])):\n",
    "            NumLetters=(wpsrightall[i][j]-wpsleftall[i][j])/charlength +1\n",
    "            #print(\" Word \" +str(j)+ \" length = \" +str(NumLetters))\n",
    "\n",
    "            WordLetters[-1].append(NumLetters)\n",
    "    FlatWordLengths=[item for sublist in WordLetters for item in sublist]\n",
    "\n",
    "\n",
    "    meandiscrepancy.append(np.mean(np.array(FlatWordLengths)-np.round(np.array(FlatWordLengths))  ))"
   ]
  },
  {
   "cell_type": "code",
   "execution_count": null,
   "metadata": {},
   "outputs": [],
   "source": [
    "BestFitCharWidth=CharOptions[np.argmin(abs(np.array(meandiscrepancy)))]"
   ]
  },
  {
   "cell_type": "code",
   "execution_count": null,
   "metadata": {},
   "outputs": [],
   "source": [
    "BestFitCharWidth"
   ]
  },
  {
   "cell_type": "code",
   "execution_count": null,
   "metadata": {},
   "outputs": [],
   "source": [
    "pylab.figure(figsize=(4,4))\n",
    "pylab.plot(CharOptions,meandiscrepancy)\n",
    "pylab.plot([BestFitCharWidth,BestFitCharWidth],[-0.2,0],'--',color='DarkGreen')\n",
    "pylab.xlim(100,135)\n",
    "pylab.plot([100,BestFitCharWidth],[0,0],'--',color='DarkGreen')\n",
    "pylab.xlabel(\"Hypothetical letter width / pix\")\n",
    "pylab.ylabel(\"Mean Alignment Discrepancy\")\n",
    "pylab.ylim(-0.2,0.15)"
   ]
  },
  {
   "cell_type": "code",
   "execution_count": null,
   "metadata": {},
   "outputs": [],
   "source": [
    "    charlength=118\n",
    "    WordLetters=[]\n",
    "    for i in range(0,len(wpsleftall)):\n",
    "        WordLetters.append([])\n",
    "        #print (\"Line \"+str(i))\n",
    "        for j in range(0,len(wpsleftall[i])):\n",
    "            NumLetters=(wpsrightall[i][j]-wpsleftall[i][j])/BestFitCharWidth +1\n",
    "            #print(\" Word \" +str(j)+ \" length = \" +str(NumLetters))\n",
    "\n",
    "            WordLetters[-1].append(NumLetters)"
   ]
  },
  {
   "cell_type": "code",
   "execution_count": null,
   "metadata": {},
   "outputs": [],
   "source": [
    "FlatWPsLeft=[item for sublist in wpsleftall for item in sublist]\n",
    "FlatWPsRight=[item for sublist in wpsrightall for item in sublist]\n",
    "FlatWordLengths=[item for sublist in WordLetters for item in sublist]\n",
    "MidPoints=(np.array(FlatWPsLeft)+np.array(FlatWPsRight))/2."
   ]
  },
  {
   "cell_type": "code",
   "execution_count": null,
   "metadata": {},
   "outputs": [],
   "source": [
    "#pylab.plot(MidPoints, np.array(FlatWordLengths)-np.round(np.array(FlatWordLengths)),'o')\n",
    "#pylab.xlabel(\"X position\")\n",
    "#pylab.ylabel(\"distance to integer\")\n",
    "pylab.figure(figsize=(4,4))\n",
    "pylab.hist(np.array(FlatWordLengths)-np.round(np.array(FlatWordLengths)))\n",
    "pylab.xlabel(\"Distance from Integer\")\n",
    "pylab.ylabel(\"Counts\")"
   ]
  },
  {
   "cell_type": "code",
   "execution_count": null,
   "metadata": {},
   "outputs": [],
   "source": [
    "#Word end localization scale (/sqrt(2) due to 2 independent measurements)\n",
    "np.std(np.array(FlatWordLengths)-np.round(np.array(FlatWordLengths)))/np.sqrt(2)\n"
   ]
  },
  {
   "cell_type": "code",
   "execution_count": null,
   "metadata": {},
   "outputs": [],
   "source": [
    "LetterImgs=[]\n",
    "\\for i in range(0,len(wpsleftall)):\n",
    "    LetterImgs.append([])\n",
    "    for j in range(0,len(wpsleftall[i])):\n",
    "        LetterImgs[-1].append([])\n",
    "        NumLetters=int(round(WordLetters[i][j]))\n",
    "        LetterCenters=np.linspace(wpsleftall[i][j],wpsrightall[i][j],NumLetters)\n",
    "        for c in LetterCenters:\n",
    "            Lo=int(c)-XSize/2\n",
    "            Hi=int(c)+XSize/2\n",
    "            Letter=LineArrays[i][:,Lo:Hi][::-1]\n",
    "            Blurred=ndimage.gaussian_filter(Letter, sigma=5, order=0)\n",
    "            MinVal=np.min(Blurred)\n",
    "            MaxVal=np.max(Blurred)\n",
    "            SubArray=(Blurred-MinVal)/(MaxVal-MinVal)\n",
    "           # for x in range(len(SubArray)-20,len(SubArray)):\n",
    "           #     for y in range(len(SubArray[0])-20,len(SubArray[0])):\n",
    "           #         SubArray[x][y]=0 \n",
    "            LetterImgs[-1][-1].append(SubArray)"
   ]
  },
  {
   "cell_type": "code",
   "execution_count": null,
   "metadata": {},
   "outputs": [],
   "source": [
    "Line=2\n",
    "Word=-1\n",
    "Letter=2\n",
    "pylab.imshow(LetterImgs[Line][Word][Letter],cmap='binary')\n",
    "pylab.show()\n",
    "\n",
    "Line=2\n",
    "Word=-2\n",
    "Letter=1\n",
    "pylab.imshow(LetterImgs[Line][Word][Letter],cmap='binary')\n",
    "pylab.show()\n",
    "\n",
    "Line=2\n",
    "Word=-3\n",
    "Letter=2\n",
    "pylab.imshow(LetterImgs[Line][Word][Letter],cmap='binary')\n",
    "pylab.show()\n",
    "\n",
    "Line=2\n",
    "Word=-3\n",
    "Letter=3\n",
    "pylab.imshow(LetterImgs[Line][Word][Letter],cmap='binary')\n",
    "pylab.show()"
   ]
  },
  {
   "cell_type": "code",
   "execution_count": null,
   "metadata": {},
   "outputs": [],
   "source": [
    "LettersFile=open(\"Pkls/ExtracredLettersFromMemo.pkl\",'wb')\n",
    "cPickle.dump(LetterImgs,LettersFile)\n",
    "LettersFile.close()\n"
   ]
  },
  {
   "cell_type": "code",
   "execution_count": null,
   "metadata": {},
   "outputs": [],
   "source": [
    "pylab.figure(figsize=(5,5),dpi=200)\n",
    "for l in range(0,len(LineArrays)):\n",
    "    SummedIntensity=[]\n",
    "    for i in range(0,len(LineArrays[l])):\n",
    "        SummedIntensity.append(sum(LineArrays[l][i])/len(LineArrays[l][i]))\n",
    "    pylab.plot(SummedIntensity,'-',label='Line '+str(l))\n",
    "    pylab.legend(loc='upper left')\n",
    "pylab.plot([85,85],[0,60],'--',color='black')\n",
    "pylab.plot([205,205],[0,60],'--',color='black')\n",
    "pylab.plot([145,144],[0,60],':',color='black')\n",
    "\n",
    "\n",
    "\n",
    "pylab.ylim(20,60)\n",
    "pylab.savefig(\"Plots/CharHeights.png\",dpi=200)\n",
    "pylab.xlabel(\"Height within line\")\n",
    "pylab.ylabel(\"Average Intensity\")\n"
   ]
  },
  {
   "cell_type": "code",
   "execution_count": null,
   "metadata": {},
   "outputs": [],
   "source": [
    "pylab.hist(np.ndarray.flatten(LetterImgs[1][1][1]),bins=np.arange(0,1,0.01))"
   ]
  },
  {
   "cell_type": "code",
   "execution_count": null,
   "metadata": {},
   "outputs": [],
   "source": [
    "(85.+205.)/2"
   ]
  },
  {
   "cell_type": "code",
   "execution_count": null,
   "metadata": {},
   "outputs": [],
   "source": [
    "YSize"
   ]
  },
  {
   "cell_type": "code",
   "execution_count": null,
   "metadata": {},
   "outputs": [],
   "source": []
  }
 ],
 "metadata": {
  "kernelspec": {
   "display_name": "Python 3",
   "language": "python",
   "name": "python3"
  },
  "language_info": {
   "codemirror_mode": {
    "name": "ipython",
    "version": 2
   },
   "file_extension": ".py",
   "mimetype": "text/x-python",
   "name": "python",
   "nbconvert_exporter": "python",
   "pygments_lexer": "ipython2",
   "version": "2.7.15"
  }
 },
 "nbformat": 4,
 "nbformat_minor": 2
}
