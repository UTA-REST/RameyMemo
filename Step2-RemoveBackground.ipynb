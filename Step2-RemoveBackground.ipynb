{
 "cells": [
  {
   "cell_type": "code",
   "execution_count": null,
   "metadata": {},
   "outputs": [],
   "source": [
    "import numpy as np\n",
    "import matplotlib as mpl\n",
    "import pylab\n",
    "from libtiff import TIFFfile\n",
    "from libtiff import TIFF\n",
    "import os\n",
    "from scipy import interpolate\n",
    "import cPickle"
   ]
  },
  {
   "cell_type": "code",
   "execution_count": null,
   "metadata": {},
   "outputs": [],
   "source": [
    "LineArraysFile=open(\"Pkls/LineArrays.pkl\")\n",
    "LineArrays=cPickle.load(LineArraysFile)"
   ]
  },
  {
   "cell_type": "code",
   "execution_count": null,
   "metadata": {},
   "outputs": [],
   "source": [
    "def AssembleLines(LineArraysIn):\n",
    "    LensAll=[]\n",
    "    AvesAll=[]\n",
    "    for i in LineArraysIn:\n",
    "        LensAll.append(len(i[0]))\n",
    "        AvesAll.append(np.mean(i))\n",
    "    YSize=len(LineArraysIn[0])\n",
    "    BGVal=np.mean(AvesAll)\n",
    "    MaxLen=max(LensAll)\n",
    "    FullArray=np.ndarray(shape=(len(LineArraysIn)*YSize,MaxLen))\n",
    "    for i in range(0,len(LineArraysIn)):\n",
    "        for a in range(0,len(LineArraysIn[i][0])):\n",
    "            for j in range(0,YSize):\n",
    "                FullArray[int(i*YSize+j),a]=LineArraysIn[i][int(YSize-j-1),a]\n",
    "        for a in range(len(LineArraysIn[i][0]),max(LensAll)):\n",
    "            for j in range(0,YSize):\n",
    "                FullArray[i*YSize+j,a]=BGVal\n",
    "    return FullArray\n"
   ]
  },
  {
   "cell_type": "code",
   "execution_count": null,
   "metadata": {},
   "outputs": [],
   "source": [
    "RawImage=AssembleLines(LineArrays)\n",
    "pylab.imshow(RawImage,cmap='binary')\n",
    "pylab.imsave(\"Plots/Flattened.png\",RawImage)"
   ]
  },
  {
   "cell_type": "code",
   "execution_count": null,
   "metadata": {},
   "outputs": [],
   "source": [
    "def ExtractLocalBGRefAndOffset(LineArray):\n",
    "    BGRefs=[]\n",
    "    Offsets=[]\n",
    "    \n",
    "    YSize=len(LineArray)\n",
    "    ArrayLength=len(LineArray[0])\n",
    "\n",
    "    for a in range(0,ArrayLength):\n",
    "            #Brightness of lowest 20%\n",
    "            BGRefs.append(np.mean(sorted(LineArray[:,a])[0:int(YSize*0.2)]))\n",
    "            #Median Y pos\n",
    "            Offsets.append((np.mean(LineArray[:,a]*range(0,YSize))/np.mean(LineArray[:,a]))-YSize/2.)\n",
    "    vars=range(0,ArrayLength)\n",
    "    pylab.plot(BGRefs,label=\"Extracted\",color='DarkRed')\n",
    "    pylab.xlabel(\"Horizontal Coordinate\")\n",
    "    pylab.ylabel(\"Background Reference\")\n",
    "    polyBG=np.polyfit(vars,BGRefs,8)\n",
    "    BGPoints=np.poly1d(polyBG)(vars)\n",
    "    pylab.plot(vars,BGPoints,color='red',label='Smooth Fit',linewidth=2)\n",
    "    pylab.legend(loc='upper left')\n",
    "    pylab.show()\n",
    "    pylab.plot(Offsets,color='DarkBlue')\n",
    "    polyOffsets=np.polyfit(vars,Offsets,8)\n",
    "    OffsetPoints=np.poly1d(polyOffsets)(vars)\n",
    "    pylab.plot(vars,OffsetPoints,color='blue',linewidth=2)\n",
    "    pylab.xlabel(\"Horizontal Coordinate\")\n",
    "    pylab.ylabel(\"Vertical Offset\")\n",
    "    pylab.legend(loc='upper left')\n",
    "\n",
    "\n",
    "\n",
    "    pylab.show()    \n",
    "    return [BGPoints,OffsetPoints]"
   ]
  },
  {
   "cell_type": "code",
   "execution_count": null,
   "metadata": {},
   "outputs": [],
   "source": [
    "def RemoveBGAndOffset(LineArray):\n",
    "    ReturnArray=np.zeros_like(LineArray)\n",
    "    BGPoints,OffsetPoints=ExtractLocalBGRefAndOffset(LineArray)\n",
    "    YSize=len(LineArray)\n",
    "    ArrayLength=len(LineArray[0])\n",
    "\n",
    "    for a in range(0,ArrayLength):\n",
    "        bgval=BGPoints[a]\n",
    "        for j in range(0,YSize):\n",
    "            jindex=(j+int(OffsetPoints[a]))%YSize\n",
    "\n",
    "            ReturnArray[j,a]=LineArray[jindex,a]-bgval\n",
    "    return ReturnArray"
   ]
  },
  {
   "cell_type": "code",
   "execution_count": null,
   "metadata": {},
   "outputs": [],
   "source": [
    "def Trim(LineArray,Lower,Upper):\n",
    "    SubArray=LineArray[Lower:Upper,:] \n",
    "    return SubArray"
   ]
  },
  {
   "cell_type": "code",
   "execution_count": null,
   "metadata": {},
   "outputs": [],
   "source": [
    "TrimmedBGSubtractedLineArrays=[]\n",
    "BGSubtractedLineArrays=[]\n",
    "for i in LineArrays:\n",
    "    BGSubtractedLineArrays.append(RemoveBGAndOffset(i))\n",
    "    TrimmedBGSubtractedLineArrays.append(Trim(BGSubtractedLineArrays[-1],20,250))"
   ]
  },
  {
   "cell_type": "code",
   "execution_count": null,
   "metadata": {},
   "outputs": [],
   "source": [
    "BGSubImage=AssembleLines(BGSubtractedLineArrays)\n",
    "pylab.imshow(BGSubImage,cmap='binary')\n",
    "pylab.imsave(\"Plots/BGSubtracted.png\",BGSubImage,cmap='binary')"
   ]
  },
  {
   "cell_type": "code",
   "execution_count": null,
   "metadata": {},
   "outputs": [],
   "source": [
    "LineArraysFile=open(\"Pkls/LineArraysBGSub.pkl\",'wb')\n",
    "cPickle.dump(BGSubtractedLineArrays,LineArraysFile)\n",
    "LineArraysFile.close()"
   ]
  },
  {
   "cell_type": "code",
   "execution_count": null,
   "metadata": {},
   "outputs": [],
   "source": [
    "TrimmedBGSubImage=AssembleLines(TrimmedBGSubtractedLineArrays)\n",
    "pylab.imshow(TrimmedBGSubImage,cmap='binary')\n",
    "pylab.imsave(\"Plots/TrimmedBGSubtracted.png\",TrimmedBGSubImage,cmap='binary')"
   ]
  },
  {
   "cell_type": "code",
   "execution_count": null,
   "metadata": {},
   "outputs": [],
   "source": [
    "TrimmedLineArraysFile=open(\"Pkls/TrimmedLineArraysBGSub.pkl\",'wb')\n",
    "cPickle.dump(TrimmedBGSubtractedLineArrays,TrimmedLineArraysFile)\n",
    "TrimmedLineArraysFile.close()"
   ]
  },
  {
   "cell_type": "code",
   "execution_count": null,
   "metadata": {},
   "outputs": [],
   "source": [
    "import scipy.ndimage as ndimage"
   ]
  },
  {
   "cell_type": "code",
   "execution_count": null,
   "metadata": {},
   "outputs": [],
   "source": [
    "Kernel=10\n",
    "for i in range(0,len(BGSubtractedLineArrays)):\n",
    "    img = ndimage.gaussian_filter(BGSubtractedLineArrays[i], sigma=(Kernel), order=0)\n",
    "    pylab.imshow(img[::-1],cmap='binary',clim=(-20,150))\n",
    "    \n",
    "    pylab.show()\n",
    "    pylab.imsave(\"BlurredLines/Blurred\"+str(Kernel)+\"_\"+str(i)+\".png\",img)"
   ]
  },
  {
   "cell_type": "code",
   "execution_count": null,
   "metadata": {},
   "outputs": [],
   "source": [
    "img = ndimage.gaussian_filter(BGSubImage, sigma=(15), order=0)\n",
    "pylab.imshow(img,cmap='binary')\n",
    "pylab.imsave(\"Plots/Blur15.png\",img,cmap='binary')\n",
    "pylab.savefig(\"Plots/Blur15_WithAxes.png\",dpi=500)"
   ]
  },
  {
   "cell_type": "code",
   "execution_count": null,
   "metadata": {},
   "outputs": [],
   "source": [
    "250-170"
   ]
  },
  {
   "cell_type": "code",
   "execution_count": null,
   "metadata": {},
   "outputs": [],
   "source": []
  },
  {
   "cell_type": "code",
   "execution_count": null,
   "metadata": {},
   "outputs": [],
   "source": []
  }
 ],
 "metadata": {
  "kernelspec": {
   "display_name": "Python 3",
   "language": "python",
   "name": "python3"
  },
  "language_info": {
   "codemirror_mode": {
    "name": "ipython",
    "version": 2
   },
   "file_extension": ".py",
   "mimetype": "text/x-python",
   "name": "python",
   "nbconvert_exporter": "python",
   "pygments_lexer": "ipython2",
   "version": "2.7.15"
  }
 },
 "nbformat": 4,
 "nbformat_minor": 2
}
