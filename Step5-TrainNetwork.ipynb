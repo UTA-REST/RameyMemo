{
 "cells": [
  {
   "cell_type": "code",
   "execution_count": null,
   "metadata": {},
   "outputs": [],
   "source": [
    "import numpy as np\n",
    "import pylab\n",
    "%matplotlib inline\n",
    "import scipy.ndimage as ndimage\n",
    "from PIL import ImageDraw, ImageFont, Image\n",
    "import pickle\n",
    "#import tensorflow as tf\n",
    "#from tensorflow import keras\n",
    "import keras\n",
    "#from keras.datasets import mnist\n",
    "from keras import Sequential\n",
    "from keras.layers.core import Dense, Dropout, Activation, Flatten\n",
    "from keras.layers.convolutional import Conv2D, MaxPooling2D\n",
    "\n",
    "from keras.utils import np_utils"
   ]
  },
  {
   "cell_type": "code",
   "execution_count": null,
   "metadata": {},
   "outputs": [],
   "source": [
    "trainingfile=open(\"Pkls/TrainingFile.pkl\",'rb')\n",
    "((Images,Labels),(TestImages,TestLabels))=pickle.load(trainingfile)\n",
    "trainingfile.close()"
   ]
  },
  {
   "cell_type": "code",
   "execution_count": null,
   "metadata": {},
   "outputs": [],
   "source": [
    "pylab.imshow(Images[1],cmap='binary')\n",
    "pylab.colorbar()\n",
    "pylab.title(Labels[1])\n",
    "pylab.show()\n",
    "\n",
    "pylab.imshow(TestImages[1],cmap='binary')\n",
    "pylab.colorbar()\n",
    "pylab.title(TestLabels[1])\n",
    "pylab.show()\n",
    "\n",
    "XSize=len(Images[1])\n",
    "YSize=len(Images[1][0])\n"
   ]
  },
  {
   "cell_type": "code",
   "execution_count": null,
   "metadata": {},
   "outputs": [],
   "source": [
    "nclasses=26\n",
    "ImgSize=len(Images[0])*len(Images[0][0])\n",
    "X_train = Images.reshape(len(Images), XSize,YSize,1)\n",
    "Y_train = np_utils.to_categorical(Labels, nclasses)\n",
    "X_test = TestImages.reshape(len(TestImages), XSize,YSize,1)\n",
    "Y_test = np_utils.to_categorical(TestLabels, nclasses)\n",
    "\n"
   ]
  },
  {
   "cell_type": "code",
   "execution_count": null,
   "metadata": {},
   "outputs": [],
   "source": [
    "model = Sequential()\n",
    "model.add(Conv2D(32, kernel_size=(5, 5), strides=(1, 1),\n",
    "                 activation='relu',\n",
    "                 input_shape=(XSize,YSize,1)))\n",
    "model.add(MaxPooling2D(pool_size=(2, 2), strides=(2, 2)))\n",
    "model.add(Conv2D(64, (5, 5), activation='relu'))\n",
    "model.add(MaxPooling2D(pool_size=(2, 2)))\n",
    "model.add(Flatten())\n",
    "model.add(Dense(1000, activation='relu'))\n",
    "model.add(Dense(nclasses, activation='softmax'))"
   ]
  },
  {
   "cell_type": "code",
   "execution_count": null,
   "metadata": {},
   "outputs": [],
   "source": [
    "class AccuracyHistory(keras.callbacks.Callback):\n",
    "    def on_train_begin(self, logs={}):\n",
    "        self.acc = []\n",
    "        self.topkacc = []\n",
    "        self.loss = []\n",
    "        self.valid_acc=[]\n",
    "        self.valid_topkacc=[]\n",
    "        self.valid_loss=[]\n",
    "    def on_epoch_end(self, batch, logs={}):\n",
    "        self.acc.append(logs.get('acc'))\n",
    "        self.topkacc.append(logs.get('top_k_categorical_accuracy'))\n",
    "        self.loss.append(logs.get('loss'))\n",
    "        validloss, validtopkacc, validacc= self.model.evaluate(X_test, Y_test, verbose=0)\n",
    "        self.valid_loss.append(validloss)\n",
    "        self.valid_acc.append(validacc)\n",
    "        self.valid_topkacc.append(validtopkacc)\n",
    "history = AccuracyHistory()"
   ]
  },
  {
   "cell_type": "code",
   "execution_count": null,
   "metadata": {},
   "outputs": [],
   "source": [
    "model.compile(optimizer=keras.optimizers.SGD(lr=0.01), \n",
    "              loss='categorical_crossentropy',\n",
    "              metrics=['top_k_categorical_accuracy','accuracy'])\n"
   ]
  },
  {
   "cell_type": "code",
   "execution_count": null,
   "metadata": {},
   "outputs": [],
   "source": [
    "traininglog=model.fit(X_train, Y_train, epochs=10,batch_size=128, callbacks=[history])"
   ]
  },
  {
   "cell_type": "code",
   "execution_count": null,
   "metadata": {},
   "outputs": [],
   "source": [
    "history.valid_acc"
   ]
  },
  {
   "cell_type": "code",
   "execution_count": null,
   "metadata": {},
   "outputs": [],
   "source": [
    "pylab.figure(figsize=(4,4))\n",
    "pylab.plot(history.acc,'--',label='Accuracy, Training',color='DarkRed')\n",
    "pylab.plot(history.valid_acc,label='Accuracy, Validation',color='DarkRed')\n",
    "\n",
    "pylab.plot(history.topkacc,'--',label='TopK Accuracy, Training',color='black')\n",
    "pylab.plot(history.valid_topkacc,label='TopK Accuracy, Validation',color='black')\n",
    "\n",
    "\n",
    "pylab.xlabel(\"Epoch\")\n",
    "pylab.ylabel(\"Fig. of Merit\")\n",
    "pylab.legend(loc='lower right')\n",
    "pylab.savefig(\"Plots/NetworkAcc.png\",dpi=250)"
   ]
  },
  {
   "cell_type": "code",
   "execution_count": null,
   "metadata": {},
   "outputs": [],
   "source": [
    "pylab.figure(figsize=(4,4))\n",
    "pylab.plot(history.loss,'--,',label='Loss, Training',color='DarkBlue')\n",
    "pylab.plot(history.valid_loss,label='Loss, Validation',color='DarkBlue')\n",
    "\n",
    "pylab.xlabel(\"Epoch\")\n",
    "pylab.ylabel(\"Fig. of Merit\")\n",
    "pylab.legend(loc='upper right')\n",
    "pylab.savefig(\"Plots/NetworkLoss.png\",dpi=250)"
   ]
  },
  {
   "cell_type": "code",
   "execution_count": null,
   "metadata": {},
   "outputs": [],
   "source": [
    "predictions = model.predict(X_test)"
   ]
  },
  {
   "cell_type": "code",
   "execution_count": null,
   "metadata": {},
   "outputs": [],
   "source": [
    "\n",
    "\n",
    "model.save(\"Network/TrainedModelFuzzy.h5\")\n"
   ]
  },
  {
   "cell_type": "code",
   "execution_count": null,
   "metadata": {},
   "outputs": [],
   "source": [
    "def LabelToLetter(l):\n",
    "    return chr(65+l)\n",
    "Letters=[]\n",
    "Indices=np.arange(0,26)\n",
    "for i in Indices:\n",
    "    Letters.append(LabelToLetter(i))\n",
    "\n"
   ]
  },
  {
   "cell_type": "code",
   "execution_count": null,
   "metadata": {},
   "outputs": [],
   "source": [
    "TheMatrix=np.ndarray(shape=(26,26))\n",
    "TheMatrix=np.zeros_like(TheMatrix)\n",
    "for p in range(0,len(predictions)):\n",
    "    for c in range(0,len(predictions[p])):\n",
    "        TheMatrix[TestLabels[p]][c]+=predictions[p][c]\n",
    "TheMatrix=TheMatrix/len(predictions)*26"
   ]
  },
  {
   "cell_type": "code",
   "execution_count": null,
   "metadata": {},
   "outputs": [],
   "source": [
    "def PlotCheckPrediction(predictions, x):\n",
    "    pred=predictions[x]\n",
    "    f, (ax1, ax2) = pylab.subplots(1, 2, figsize=(12,4))\n",
    "    ax1.hist(Indices,weights=pred,bins=np.arange(-0.5,26.5,1))\n",
    "   # ax1.hist(Indices,weights=pred*TheMatrix[:,],bins=np.arange(-0.5,26.5,1),histtype='step')\n",
    "\n",
    "\n",
    "    ax2.imshow(TestImages[x],cmap='binary')\n",
    "    ax2.set_title(\"Truth = \"+str(LabelToLetter(TestLabels[x])))\n",
    "    ax1.set_title(\"Best Guess = \"+str(LabelToLetter(np.argmax(pred))))\n",
    "    ax1.set_xticks(Indices)\n",
    "    ax1.set_xticklabels(Letters)\n",
    "    ax1.set_ylabel(\"CNN Score\")\n",
    "    ax1.set_xlim(-0.5,25.5)\n",
    "    ax1.set_ylim(0,1)\n",
    "    ax1.grid()\n",
    "    pylab.show()"
   ]
  },
  {
   "cell_type": "code",
   "execution_count": null,
   "metadata": {},
   "outputs": [],
   "source": [
    "for i in range(0,30):\n",
    "    PlotCheckPrediction(predictions,i)"
   ]
  },
  {
   "cell_type": "code",
   "execution_count": null,
   "metadata": {},
   "outputs": [],
   "source": [
    "sum(predictions[4])"
   ]
  },
  {
   "cell_type": "code",
   "execution_count": null,
   "metadata": {},
   "outputs": [],
   "source": [
    "TrainingFreqs=np.zeros(26)\n",
    "TheMatrix=np.ndarray(shape=(26,26))\n",
    "TheMatrix=np.zeros_like(TheMatrix)\n",
    "for p in range(0,len(predictions)):\n",
    "    TrainingFreqs[TestLabels[p]]+=1.\n",
    "    for c in range(0,len(predictions[p])):\n",
    "        TheMatrix[TestLabels[p]][c]+=predictions[p][c]\n",
    "TransferFun=np.transpose(TheMatrix)/TrainingFreqs\n",
    "np.savetxt(\"./TransferMatrix.txt\",TransferFun)"
   ]
  },
  {
   "cell_type": "code",
   "execution_count": null,
   "metadata": {},
   "outputs": [],
   "source": []
  },
  {
   "cell_type": "code",
   "execution_count": null,
   "metadata": {},
   "outputs": [],
   "source": [
    "pylab.figure(figsize=(4,4),dpi=200)\n",
    "pylab.imshow(TransferFun)\n",
    "pylab.xlabel(\"True letter\")\n",
    "pylab.ylabel(\"Average Score\")\n",
    "pylab.colorbar()\n"
   ]
  },
  {
   "cell_type": "code",
   "execution_count": null,
   "metadata": {},
   "outputs": [],
   "source": [
    "TrainingFreqs"
   ]
  },
  {
   "cell_type": "code",
   "execution_count": null,
   "metadata": {},
   "outputs": [],
   "source": []
  },
  {
   "cell_type": "code",
   "execution_count": null,
   "metadata": {},
   "outputs": [],
   "source": []
  },
  {
   "cell_type": "code",
   "execution_count": null,
   "metadata": {},
   "outputs": [],
   "source": [
    "MaxMatrix=np.ndarray(shape=(26,26))\n",
    "MaxMatrix=np.zeros_like(TheMatrix)\n",
    "for p in range(0,len(predictions)):\n",
    "    m=np.argmax(predictions[p])\n",
    "    MaxMatrix[TestLabels[p]][m]+=1.\n",
    "TransferFunMax=np.transpose(MaxMatrix)/TrainingFreqs\n",
    "\n"
   ]
  },
  {
   "cell_type": "code",
   "execution_count": null,
   "metadata": {},
   "outputs": [],
   "source": [
    "sum(MaxMatrix)"
   ]
  },
  {
   "cell_type": "code",
   "execution_count": null,
   "metadata": {},
   "outputs": [],
   "source": [
    "import matplotlib as mpl\n",
    "pylab.figure(figsize=(4,4),dpi=200)\n",
    "pylab.imshow(TransferFunMax)\n",
    "pylab.xlabel(\"True letter\")\n",
    "pylab.ylabel(\"Frequency Of Best Fit\")\n",
    "pylab.colorbar()\n",
    "pylab.clim(0,1)\n"
   ]
  },
  {
   "cell_type": "code",
   "execution_count": null,
   "metadata": {},
   "outputs": [],
   "source": [
    "sum(np.transpose(MaxMatrix))"
   ]
  },
  {
   "cell_type": "code",
   "execution_count": null,
   "metadata": {},
   "outputs": [],
   "source": [
    "sum(MaxMatrix)"
   ]
  },
  {
   "cell_type": "code",
   "execution_count": null,
   "metadata": {},
   "outputs": [],
   "source": [
    "pylab.plot(TrainingFreqs,'o')"
   ]
  },
  {
   "cell_type": "code",
   "execution_count": null,
   "metadata": {},
   "outputs": [],
   "source": [
    "80*26"
   ]
  },
  {
   "cell_type": "code",
   "execution_count": null,
   "metadata": {},
   "outputs": [],
   "source": []
  }
 ],
 "metadata": {
  "kernelspec": {
   "display_name": "Python 2",
   "language": "python",
   "name": "python2"
  },
  "language_info": {
   "codemirror_mode": {
    "name": "ipython",
    "version": 2
   },
   "file_extension": ".py",
   "mimetype": "text/x-python",
   "name": "python",
   "nbconvert_exporter": "python",
   "pygments_lexer": "ipython2",
   "version": "2.7.15"
  }
 },
 "nbformat": 4,
 "nbformat_minor": 2
}
