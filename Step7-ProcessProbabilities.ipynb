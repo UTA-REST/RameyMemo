{
 "cells": [
  {
   "cell_type": "code",
   "execution_count": null,
   "metadata": {},
   "outputs": [],
   "source": [
    "import enchant\n",
    "import numpy as np\n",
    "import pylab\n",
    "import pickle\n",
    "import copy\n",
    "%matplotlib inline"
   ]
  },
  {
   "cell_type": "code",
   "execution_count": null,
   "metadata": {},
   "outputs": [],
   "source": [
    "d = enchant.Dict(\"en_US\")\n",
    "d.check(\"Hello\")\n"
   ]
  },
  {
   "cell_type": "code",
   "execution_count": null,
   "metadata": {},
   "outputs": [],
   "source": [
    "LetterCounts=np.loadtxt(\"LetterCounts.txt\",dtype='string')\n",
    "LettersList=LetterCounts[:,0]\n",
    "Counts=np.array(LetterCounts[:,3])"
   ]
  },
  {
   "cell_type": "code",
   "execution_count": null,
   "metadata": {},
   "outputs": [],
   "source": [
    "def LabelToLetter(l):\n",
    "    return chr(65+l)\n",
    "Letters=[]\n",
    "Indices=np.arange(0,26)\n",
    "for i in Indices:\n",
    "    Letters.append(LabelToLetter(i))\n",
    "\n",
    "    "
   ]
  },
  {
   "cell_type": "code",
   "execution_count": null,
   "metadata": {},
   "outputs": [],
   "source": [
    "LetterFreq={}\n",
    "for l in range(0,len(Letters)):\n",
    "    LetterFreq[Letters[l]]=float(Counts[l][:-1])/100"
   ]
  },
  {
   "cell_type": "code",
   "execution_count": null,
   "metadata": {},
   "outputs": [],
   "source": [
    "PRGivenT([1,2])"
   ]
  },
  {
   "cell_type": "code",
   "execution_count": null,
   "metadata": {},
   "outputs": [],
   "source": [
    "PTGivenR([1,1])"
   ]
  },
  {
   "cell_type": "code",
   "execution_count": null,
   "metadata": {},
   "outputs": [],
   "source": [
    "TransferMatrix=np.loadtxt(\"TransferMatrix.txt\")\n",
    "InvertedTransferMatrix=np.linalg.inv(TransferMatrix)"
   ]
  },
  {
   "cell_type": "code",
   "execution_count": null,
   "metadata": {},
   "outputs": [],
   "source": [
    "lets=np.arange(0,26)\n",
    "PT=LetterFreq.values()\n",
    "PRGivenT=lambda(R,T): TransferMatrix[R][T]\n",
    "PNW=np.zeros(26)\n",
    "for R in range(0,26):\n",
    "    for T in range(0,26):\n",
    "        PNW[R]+=PRGivenT([R,T])*PT[T]\n",
    "PTGivenR=lambda(T,R): PRGivenT([R,T])*PT[T]/PNW[R]\n"
   ]
  },
  {
   "cell_type": "code",
   "execution_count": null,
   "metadata": {},
   "outputs": [],
   "source": [
    "PredictionsFile=open(\"Predictions.pkl\",'rb')\n",
    "Predictions=pickle.load(PredictionsFile)\n",
    "PredictionsFile.close()"
   ]
  },
  {
   "cell_type": "code",
   "execution_count": null,
   "metadata": {},
   "outputs": [],
   "source": [
    "def MakeWordHist(Word,title=\"\"):\n",
    "    fig,axs=pylab.subplots(len(Word),1,figsize=(5,5))\n",
    "    for c in range(0,len(Word)):\n",
    "        Probs=np.zeros(26)\n",
    "        for R in range(0,len(Word[c])):\n",
    "            LetterLikelihood=LetterFreq[LabelToLetter(R)]\n",
    "            for T in range(0,26):\n",
    "                Probs[T]+=PTGivenR([T,R])*Word[c][R]\n",
    "        axs[c].hist(Indices,weights=Probs,bins=np.arange(-0.5,26.5,1),alpha=1,histtype='step',linestyle='--',linewidth=2,color='blue')\n",
    "        axs[c].hist(Indices,weights=Word[c],bins=np.arange(-0.5,26.5,1),alpha=0.2,color='grey')\n",
    "\n",
    "      #  print(Probs)\n",
    "        #axs[c].semilogy()\n",
    "        axs[c].set_xticks(Indices)\n",
    "        axs[c].set_xticklabels(Letters)\n",
    "        axs[c].set_ylabel(\"CNN Score\")\n",
    "        axs[c].set_xlim(-0.5,25.5)\n",
    "        axs[c].set_ylim(0.000,1.0)\n",
    "        axs[c].grid()\n",
    "    axs[0].set_title(title)\n",
    "    pylab.show()"
   ]
  },
  {
   "cell_type": "code",
   "execution_count": null,
   "metadata": {},
   "outputs": [],
   "source": [
    "Line=1\n",
    "for i in range(0,len(Predictions[1])):\n",
    "\n",
    "    MakeWordHist(Predictions[1][i],\"Line \"+ str(Line) + \" word \" + str(i))\n",
    "\n"
   ]
  }
 ],
 "metadata": {
  "kernelspec": {
   "display_name": "Python 2",
   "language": "python",
   "name": "python2"
  },
  "language_info": {
   "codemirror_mode": {
    "name": "ipython",
    "version": 2
   },
   "file_extension": ".py",
   "mimetype": "text/x-python",
   "name": "python",
   "nbconvert_exporter": "python",
   "pygments_lexer": "ipython2",
   "version": "2.7.15"
  }
 },
 "nbformat": 4,
 "nbformat_minor": 2
}
