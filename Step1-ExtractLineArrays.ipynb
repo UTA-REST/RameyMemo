{
 "cells": [
  {
   "cell_type": "code",
   "execution_count": null,
   "metadata": {},
   "outputs": [],
   "source": [
    "import numpy as np\n",
    "import matplotlib as mpl\n",
    "import pylab\n",
    "from libtiff import TIFFfile\n",
    "from libtiff import TIFF\n",
    "import os\n",
    "from scipy import interpolate\n",
    "import cPickle"
   ]
  },
  {
   "cell_type": "code",
   "execution_count": null,
   "metadata": {},
   "outputs": [],
   "source": [
    "def read(fileName):\n",
    "    tiff = TIFFfile(fileName)\n",
    "    samples, sample_names = tiff.get_samples()\n",
    "    outList = []\n",
    "    for sample in samples:\n",
    "        outList.append(np.copy(sample)[...,np.newaxis])\n",
    "        out = np.concatenate(outList,axis=-1)\n",
    "        out = np.rollaxis(out,0,3)\n",
    "        out = np.flipud(out)\n",
    "        tiff.close()\n",
    "    return out"
   ]
  },
  {
   "cell_type": "code",
   "execution_count": null,
   "metadata": {},
   "outputs": [],
   "source": [
    "ImageData=read(\"../RameyMemoRaw.tiff\")\n",
    "Image=ImageData[:,:,0,0]"
   ]
  },
  {
   "cell_type": "code",
   "execution_count": null,
   "metadata": {},
   "outputs": [],
   "source": [
    "pylab.imshow(Image,cmap='binary')\n",
    "pylab.plot([1000,1000],[1000,4000],color='pink')"
   ]
  },
  {
   "cell_type": "code",
   "execution_count": null,
   "metadata": {},
   "outputs": [],
   "source": [
    "#Put reference lines on for graphclick\n",
    "pylab.imshow(Image,cmap='binary')\n",
    "pylab.plot([2000,2000],[500,4000],color='pink')\n",
    "pylab.plot([2000,9000],[500,500],color='pink')\n",
    "pylab.plot([2000,9000],[500,500],color='pink')\n",
    "pylab.savefig(\"Plots/WLines.png\",dpi=200)"
   ]
  },
  {
   "cell_type": "code",
   "execution_count": null,
   "metadata": {},
   "outputs": [],
   "source": []
  },
  {
   "cell_type": "code",
   "execution_count": null,
   "metadata": {},
   "outputs": [],
   "source": [
    "TextLineFiles=os.listdir(\"TextLines/\")\n",
    "TextLineArrays=[]\n",
    "pylab.imshow(Image,cmap='binary')\n",
    "vars=np.arange(0,10000,10)\n",
    "Padding=100\n",
    "LimsLo=[]\n",
    "LimsHi=[]\n",
    "Funcs=[]\n",
    "for t in sorted(TextLineFiles):\n",
    "    ThisLine=np.loadtxt(\"TextLines/\"+t,delimiter=',')\n",
    "    TextLineArrays.append(ThisLine)\n",
    "#    pylab.plot(ThisLine[:,0],ThisLine[:,1],'o',color='pink')\n",
    "    func=interpolate.interp1d(ThisLine[:,0],ThisLine[:,1],bounds_error=False,fill_value=\"extrapolate\")\n",
    "    vars=np.arange(ThisLine[0][0],ThisLine[-1][0]+Padding,10)\n",
    "    LimsLo.append(int(ThisLine[0][0]))\n",
    "    LimsHi.append(int(ThisLine[-1][0])+Padding)\n",
    "    Funcs.append(func)\n",
    "    pylab.plot(vars,func(vars),'-',color='pink')\n",
    "    pylab.ylim(0,5000)"
   ]
  },
  {
   "cell_type": "code",
   "execution_count": null,
   "metadata": {},
   "outputs": [],
   "source": [
    "YScale=300\n",
    "LineArrays=[]\n",
    "for i in range(0,len(LimsLo)):\n",
    "    ThisLineArray=np.ndarray(shape=(YScale,LimsHi[i]-LimsLo[i]))\n",
    "    for a in range(LimsLo[i],LimsHi[i]):\n",
    "        for x in range(0,YScale):\n",
    "            ThisLineArray[x,a-LimsLo[i]]=Image[int(Funcs[i](a)-YScale/2+x),a]\n",
    "    LineArrays.append(ThisLineArray)\n",
    "    pylab.imshow(ThisLineArray,cmap='binary')\n",
    "    pylab.show()"
   ]
  },
  {
   "cell_type": "code",
   "execution_count": null,
   "metadata": {},
   "outputs": [],
   "source": [
    "ReversedOrder=[]\n",
    "for i in range(0,len(LimsLo)):\n",
    "    ReversedOrder.append(LineArrays[len(LimsLo)-i-1])\n",
    "\n",
    "LineArraysFile=open(\"Pkls/LineArrays.pkl\",'wb')\n",
    "cPickle.dump(ReversedOrder,LineArraysFile)\n",
    "LineArraysFile.close()"
   ]
  },
  {
   "cell_type": "code",
   "execution_count": null,
   "metadata": {},
   "outputs": [],
   "source": [
    "NoiseLine=[[5500,10000],[2450,2100]]\n",
    "\n",
    "\n",
    "pylab.imshow(Image,cmap='binary')\n",
    "vars=np.arange(0,10000,10)\n",
    "Padding=100\n",
    "LimsLo=[]\n",
    "LimsHi=[]\n",
    "Funcs=[]\n",
    "for t in sorted(TextLineFiles):\n",
    "#    pylab.plot(ThisLine[:,0],ThisLine[:,1],'o',color='pink')\n",
    "    noisefunc=interpolate.interp1d(NoiseLine[0],NoiseLine[1],bounds_error=False,fill_value=\"extrapolate\")\n",
    "    vars=np.arange(NoiseLine[0][0],NoiseLine[0][1]+Padding,10)\n",
    "    LimsLo.append(int(NoiseLine[0][0]))\n",
    "    LimsHi.append(int(NoiseLine[0][1])+Padding)\n",
    "    pylab.plot(vars,noisefunc(vars),'-',color='white')\n",
    "    pylab.ylim(0,5000)\n"
   ]
  },
  {
   "cell_type": "code",
   "execution_count": null,
   "metadata": {},
   "outputs": [],
   "source": [
    "pylab.plot(vars,noisefunc(vars),'-',color='white')\n",
    "\n"
   ]
  },
  {
   "cell_type": "code",
   "execution_count": null,
   "metadata": {},
   "outputs": [],
   "source": [
    "YScale=300\n",
    "i=-1\n",
    "NoiseLineArray=np.ndarray(shape=(YScale,LimsHi[i]-LimsLo[i]))\n",
    "for a in range(LimsLo[i],LimsHi[i]):\n",
    "    for x in range(0,YScale):\n",
    "        NoiseLineArray[x,a-LimsLo[i]]=Image[int(noisefunc(a)-YScale/2+x),a]\n",
    "pylab.figure(figsize=(15,1))\n",
    "\n",
    "\n",
    "pylab.imshow(NoiseLineArray[:,0:3000],cmap='binary')\n",
    "pylab.show()\n"
   ]
  },
  {
   "cell_type": "code",
   "execution_count": null,
   "metadata": {},
   "outputs": [],
   "source": [
    "NoiseArraysFile=open(\"Pkls/NoiseArrays.pkl\",'wb')\n",
    "cPickle.dump(NoiseLineArray,NoiseArraysFile)\n",
    "NoiseArraysFile.close()"
   ]
  },
  {
   "cell_type": "code",
   "execution_count": null,
   "metadata": {},
   "outputs": [],
   "source": [
    "NoiseLineArray"
   ]
  },
  {
   "cell_type": "code",
   "execution_count": null,
   "metadata": {},
   "outputs": [],
   "source": []
  }
 ],
 "metadata": {
  "kernelspec": {
   "display_name": "Python 3",
   "language": "python",
   "name": "python3"
  },
  "language_info": {
   "codemirror_mode": {
    "name": "ipython",
    "version": 2
   },
   "file_extension": ".py",
   "mimetype": "text/x-python",
   "name": "python",
   "nbconvert_exporter": "python",
   "pygments_lexer": "ipython2",
   "version": "2.7.15"
  }
 },
 "nbformat": 4,
 "nbformat_minor": 2
}
