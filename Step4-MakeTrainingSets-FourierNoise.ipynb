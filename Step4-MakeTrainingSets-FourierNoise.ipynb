{
 "cells": [
  {
   "cell_type": "code",
   "execution_count": null,
   "metadata": {},
   "outputs": [],
   "source": [
    "import numpy as np\n",
    "import pylab\n",
    "%matplotlib inline\n",
    "import scipy.ndimage as ndimage\n",
    "from PIL import ImageDraw, ImageFont, Image\n",
    "import pickle\n",
    "import os\n",
    "import cPickle"
   ]
  },
  {
   "cell_type": "code",
   "execution_count": null,
   "metadata": {},
   "outputs": [],
   "source": [
    "def LoadNoiseKernel():\n",
    "    NoiseArraysFile=open(\"Pkls/NoiseArrays.pkl\",'rb')\n",
    "    NoiseArray=cPickle.load(NoiseArraysFile)[:,0:3000]\n",
    "    NoiseArraysFile.close()\n",
    "    NoiseFFT=np.fft.rfft2(NoiseArray)\n",
    "    return NoiseFFT\n",
    "    \n",
    "NoiseFFT=LoadNoiseKernel()\n",
    "\n",
    "def NoiseBlast():\n",
    "    RandomRephase=np.random.uniform(0,6.28,np.shape(NoiseFFT))\n",
    "    RandomRephase[0,0]=0   #Don't mess with DC mode\n",
    "    RandomNoise=np.abs(np.fft.irfft2(NoiseFFT*np.exp(RandomRephase*1j)))\n",
    "    return RandomNoise\n",
    "\n",
    "def SampleNoise(RandomNoise,NTimes,Size):\n",
    "    ReturnImages=[]\n",
    "    for n in range(0,NTimes):\n",
    "        SampleAreaX=np.shape(RandomNoise)[0]-Size[0]\n",
    "        SampleAreaY=np.shape(RandomNoise)[1]-Size[1]\n",
    "        RX=int(np.random.uniform(0,SampleAreaX))\n",
    "        RY=int(np.random.uniform(0,SampleAreaY))\n",
    "        SampleImage=RandomNoise[RX:RX+Size[0],RY:RY+Size[1]]\n",
    "        ReturnImages.append(SampleImage)\n",
    "    return ReturnImages"
   ]
  },
  {
   "cell_type": "code",
   "execution_count": null,
   "metadata": {},
   "outputs": [],
   "source": [
    "XSize=118\n",
    "YSize=230\n",
    "HowManyToTrain=20000\n",
    "Unblur=False"
   ]
  },
  {
   "cell_type": "code",
   "execution_count": null,
   "metadata": {},
   "outputs": [],
   "source": []
  },
  {
   "cell_type": "code",
   "execution_count": null,
   "metadata": {},
   "outputs": [],
   "source": [
    "fnts=[]\n",
    "FontNames=os.listdir(\"./Fonts\")\n",
    "print FontNames\n"
   ]
  },
  {
   "cell_type": "code",
   "execution_count": null,
   "metadata": {},
   "outputs": [],
   "source": [
    "imgs=[]\n",
    "fig, axs = pylab.subplots(10,2, sharex=True, sharey=True,dpi=200)\n",
    "fig.sharex=True\n",
    "fig.sharey=True\n",
    "Div=10\n",
    "for f in range(0,len(FontNames)):\n",
    "    fnt = ImageFont.truetype('./Fonts/'+str(FontNames[f]), 100)\n",
    "    img = Image.new('F', (1500,150))\n",
    "    d = ImageDraw.Draw(img)\n",
    "    d.text((5, 15), FontNames[f], fill=225,font=fnt)\n",
    "    axs[f%Div,(f-(f%Div))/Div].imshow(img)\n",
    "    axs[f%Div,(f-(f%Div))/Div].set_xticks([])\n",
    "    axs[f%Div,(f-(f%Div))/Div].set_yticks([])\n",
    "\n",
    "\n",
    "img = Image.new('F', (1500,150))\n",
    "d = ImageDraw.Draw(img)\n",
    "d.text((5, 15),\"\", fill=225,font=fnt)\n",
    "axs[9,1].imshow(img)\n",
    "axs[9,1].set_xticks([])\n",
    "axs[9,1].set_yticks([])\n",
    "\n",
    "\n",
    "\n",
    "\n",
    "fig.subplots_adjust(hspace=-0.7)   \n",
    "fig.subplots_adjust(wspace=0)    \n",
    "pylab.show()\n",
    "\n",
    "\n"
   ]
  },
  {
   "cell_type": "code",
   "execution_count": null,
   "metadata": {},
   "outputs": [],
   "source": [
    "f"
   ]
  },
  {
   "cell_type": "code",
   "execution_count": null,
   "metadata": {},
   "outputs": [],
   "source": [
    "def MakeTrainingImageBlurred(Letter, XSize, YSize, Rotation, Size, Blur,Noise,ShowIt=True):\n",
    "\n",
    "    f=np.random.randint(len(FontNames))\n",
    "    fnt = ImageFont.truetype('./Fonts/'+str(FontNames[f]), Size)\n",
    "    img = Image.new('F', (XSize,YSize))\n",
    "    d = ImageDraw.Draw(img)\n",
    "    X=5+np.random.random()*15\n",
    "    Y=-15+np.random.random()*20\n",
    "    d.text((X, Y), Letter, fill=125,font=fnt)\n",
    "    Rotated=img.rotate(Rotation)\n",
    "    Blurred1=ndimage.gaussian_filter(Rotated, sigma=(Blur), order=0)\n",
    "#    img2=Blurred1\n",
    "    img2=Blurred1+Noise\n",
    "\n",
    "    Blurred=ndimage.gaussian_filter(img2, sigma=0, order=0)\n",
    "\n",
    "\n",
    "    Final=Blurred\n",
    "\n",
    "    MaxVal=np.max(Final)\n",
    "    MinVal=np.min(Final)\n",
    "\n",
    "    Final=(Final-MinVal)/(MaxVal-MinVal)\n",
    "#    for x in range(len(Final)-20,len(Final)):\n",
    "#        for y in range(len(Final[0])-20,len(Final[0])):\n",
    "#            Final[x][y]=0   \n",
    "         #   print(x,y)\n",
    "    if(ShowIt):\n",
    "        pylab.imshow(Final,cmap='binary')\n",
    "        pylab.clim(0,1)\n",
    "        pylab.show()\n",
    "    return Final\n"
   ]
  },
  {
   "cell_type": "code",
   "execution_count": null,
   "metadata": {},
   "outputs": [],
   "source": [
    "XSize"
   ]
  },
  {
   "cell_type": "code",
   "execution_count": null,
   "metadata": {},
   "outputs": [],
   "source": [
    "def LabelToLetter(l):\n",
    "    return chr(65+l)"
   ]
  },
  {
   "cell_type": "code",
   "execution_count": null,
   "metadata": {},
   "outputs": [],
   "source": [
    "NoiseSamples=[]\n",
    "HowManyPerBlast=30\n",
    "for i in range(HowManyToTrain/HowManyPerBlast):\n",
    "    Samples=SampleNoise(NoiseBlast(),HowManyPerBlast,(YSize,XSize))\n",
    "    for sample in Samples:\n",
    "        NoiseSamples.append(sample)\n",
    "   # print(i*HowManyPerBlast)"
   ]
  },
  {
   "cell_type": "code",
   "execution_count": null,
   "metadata": {},
   "outputs": [],
   "source": [
    "NoiseID=int(np.random.uniform(len(NoiseSamples)))\n",
    "Img=MakeTrainingImageBlurred(\"C\", XSize, YSize, -5, 155, 10,NoiseSamples[NoiseID])"
   ]
  },
  {
   "cell_type": "code",
   "execution_count": null,
   "metadata": {},
   "outputs": [],
   "source": [
    "pylab.imshow(NoiseSamples[NoiseID],cmap='binary')\n",
    "pylab.clim(0,255)"
   ]
  },
  {
   "cell_type": "code",
   "execution_count": null,
   "metadata": {},
   "outputs": [],
   "source": [
    "NoiseSamples[NoiseID]"
   ]
  },
  {
   "cell_type": "code",
   "execution_count": null,
   "metadata": {},
   "outputs": [],
   "source": [
    "ShowEvery=100\n",
    "Labels=[]\n",
    "Images=[]\n",
    "\n",
    "\n",
    "NumberToMake=HowManyToTrain\n",
    "for i in range(0,NumberToMake):\n",
    "\n",
    "    l=np.random.randint(26)\n",
    "    Letter=LabelToLetter(l)\n",
    "    RandomRotation=(np.random.random()-0.5)*2*5\n",
    "    RandomSize=int(145+20*np.random.random())\n",
    "    RandomBlur=5+np.random.random()*10\n",
    "\n",
    "    if(Unblur):\n",
    "        RandomBlur=0\n",
    "   # RandomBlur=10\n",
    "    \n",
    "    Labels.append(l)\n",
    "    NoiseID=int(np.random.uniform(len(NoiseSamples)))\n",
    "    Images.append(MakeTrainingImageBlurred(Letter, XSize, YSize, RandomRotation, RandomSize, RandomBlur,NoiseSamples[NoiseID],False))\n",
    "    \n",
    "    if(i%ShowEvery==0):\n",
    "        print i\n",
    "        pylab.imshow(Images[-1],cmap='binary')\n",
    "        pylab.title(Letter)\n",
    "        pylab.show()\n",
    "\n"
   ]
  },
  {
   "cell_type": "code",
   "execution_count": null,
   "metadata": {},
   "outputs": [],
   "source": [
    "TestLabels=[]\n",
    "TestImages=[]\n",
    "NumTestImages=2000\n",
    "for i in range(0, NumTestImages):\n",
    "    if(i%100==0):\n",
    "        print i\n",
    "    l=np.random.randint(26)\n",
    "    Letter=LabelToLetter(l)\n",
    "    RandomRotation=(np.random.random()-0.5)*2*5\n",
    "    RandomSize=int(145+20*np.random.random())\n",
    "    RandomBlur=5+np.random.random()*10\n",
    "    if(Unblur):\n",
    "        RandomBlur=0\n",
    "    TestLabels.append(l)\n",
    "    NoiseID=int(np.random.uniform(len(NoiseSamples)))\n",
    "\n",
    "    TestImages.append(MakeTrainingImageBlurred(Letter, XSize, YSize, RandomRotation, RandomSize, RandomBlur,NoiseSamples[NoiseID],False))"
   ]
  },
  {
   "cell_type": "code",
   "execution_count": null,
   "metadata": {},
   "outputs": [],
   "source": [
    "trainingfile=open(\"Pkls/TrainingFile.pkl\",'wb')\n",
    "pickle.dump(((np.array(Images),np.array(Labels)),(np.array(TestImages),np.array(TestLabels))),trainingfile)\n",
    "trainingfile.close()"
   ]
  },
  {
   "cell_type": "code",
   "execution_count": null,
   "metadata": {},
   "outputs": [],
   "source": [
    "pylab.figure(figsize=(7,10))\n",
    "for i in range(25):\n",
    "    pylab.subplot(5,5,i+1)\n",
    "    pylab.xticks([])\n",
    "    pylab.yticks([])\n",
    "    pylab.grid('off')\n",
    "    pylab.imshow(Images[i], cmap='binary')\n",
    "    pylab.xlabel(LabelToLetter(Labels[i]))"
   ]
  },
  {
   "cell_type": "code",
   "execution_count": null,
   "metadata": {},
   "outputs": [],
   "source": [
    "pylab.figure(figsize=(7,10))\n",
    "for i in range(25):\n",
    "    pylab.subplot(5,5,i+1)\n",
    "    pylab.xticks([])\n",
    "    pylab.yticks([])\n",
    "    pylab.grid('off')\n",
    "    pylab.imshow(TestImages[i], cmap='binary')\n",
    "    pylab.xlabel(LabelToLetter(TestLabels[i]))"
   ]
  },
  {
   "cell_type": "code",
   "execution_count": null,
   "metadata": {},
   "outputs": [],
   "source": [
    "pylab.hist(np.ndarray.flatten(TestImages[4]),bins=np.arange(0,1,0.01))\n"
   ]
  },
  {
   "cell_type": "code",
   "execution_count": null,
   "metadata": {},
   "outputs": [],
   "source": []
  }
 ],
 "metadata": {
  "kernelspec": {
   "display_name": "Python 3",
   "language": "python",
   "name": "python3"
  },
  "language_info": {
   "codemirror_mode": {
    "name": "ipython",
    "version": 2
   },
   "file_extension": ".py",
   "mimetype": "text/x-python",
   "name": "python",
   "nbconvert_exporter": "python",
   "pygments_lexer": "ipython2",
   "version": "2.7.15"
  }
 },
 "nbformat": 4,
 "nbformat_minor": 2
}
