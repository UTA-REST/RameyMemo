{
 "cells": [
  {
   "cell_type": "code",
   "execution_count": null,
   "metadata": {},
   "outputs": [],
   "source": [
    "import numpy as np\n",
    "import pylab\n",
    "%matplotlib inline\n",
    "import scipy.ndimage as ndimage\n",
    "from PIL import ImageDraw, ImageFont, Image\n",
    "import pickle\n",
    "#import tensorflow as tf\n",
    "#from tensorflow import keras\n",
    "import keras\n",
    "#from keras.datasets import mnist\n",
    "from keras import Sequential\n",
    "from keras.layers.core import Dense, Dropout, Activation, Flatten\n",
    "from keras.layers.convolutional import Conv2D, MaxPooling2D\n",
    "\n",
    "from keras.utils import np_utils"
   ]
  },
  {
   "cell_type": "code",
   "execution_count": null,
   "metadata": {},
   "outputs": [],
   "source": [
    "model = keras.models.load_model('Network/TrainedModelFuzzy.h5')\n",
    "model.summary()"
   ]
  },
  {
   "cell_type": "code",
   "execution_count": null,
   "metadata": {},
   "outputs": [],
   "source": [
    "LettersFile=open(\"Pkls/ExtracredLettersFromMemo.pkl\",'rb')\n",
    "Letters=pickle.load(LettersFile)\n",
    "LettersFile.close()"
   ]
  },
  {
   "cell_type": "code",
   "execution_count": null,
   "metadata": {},
   "outputs": [],
   "source": [
    "np.max(np.ndarray.flatten(Letters[1][1][1]))"
   ]
  },
  {
   "cell_type": "code",
   "execution_count": null,
   "metadata": {},
   "outputs": [],
   "source": [
    "Predictions=[]\n",
    "\n",
    "#per line\n",
    "for l in range(0,len(Letters)):\n",
    "    Predictions.append([])\n",
    "    #per word\n",
    "    for w in range(0,len(Letters[l])):\n",
    "        Predictions[-1].append([])\n",
    "        #per character\n",
    "        for c in range(0,len(Letters[l][w])):\n",
    "            MaxVal=np.max(Letters[l][w][c])\n",
    "            MinVal=np.min(Letters[l][w][c])\n",
    "        \n",
    "            ToTest=(np.reshape(Letters[l][w][c],(1,170,118,1)) - MinVal)/(MaxVal-MinVal+0.1)\n",
    "            Predictions[-1][-1].append(model.predict(ToTest)[0])"
   ]
  },
  {
   "cell_type": "code",
   "execution_count": null,
   "metadata": {},
   "outputs": [],
   "source": [
    "PredictionsFile=open(\"Pkls/Predictions.pkl\",'wb')\n",
    "pickle.dump(Predictions,PredictionsFile)\n",
    "PredictionsFile.close()"
   ]
  },
  {
   "cell_type": "code",
   "execution_count": null,
   "metadata": {},
   "outputs": [],
   "source": [
    "MinVal"
   ]
  },
  {
   "cell_type": "code",
   "execution_count": null,
   "metadata": {},
   "outputs": [],
   "source": [
    "pylab.imshow(Letters[1][-1][2],cmap='binary')\n",
    "pylab.colorbar()"
   ]
  },
  {
   "cell_type": "code",
   "execution_count": null,
   "metadata": {},
   "outputs": [],
   "source": []
  },
  {
   "cell_type": "code",
   "execution_count": null,
   "metadata": {},
   "outputs": [],
   "source": []
  },
  {
   "cell_type": "code",
   "execution_count": null,
   "metadata": {},
   "outputs": [],
   "source": []
  }
 ],
 "metadata": {
  "kernelspec": {
   "display_name": "Python 2",
   "language": "python",
   "name": "python2"
  },
  "language_info": {
   "codemirror_mode": {
    "name": "ipython",
    "version": 2
   },
   "file_extension": ".py",
   "mimetype": "text/x-python",
   "name": "python",
   "nbconvert_exporter": "python",
   "pygments_lexer": "ipython2",
   "version": "2.7.15"
  }
 },
 "nbformat": 4,
 "nbformat_minor": 2
}
