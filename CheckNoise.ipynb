{
 "cells": [
  {
   "cell_type": "code",
   "execution_count": null,
   "metadata": {},
   "outputs": [],
   "source": [
    "import numpy as np\n",
    "import matplotlib as mpl\n",
    "import pylab\n",
    "from libtiff import TIFFfile\n",
    "from libtiff import TIFF\n",
    "import os\n",
    "from scipy import interpolate\n",
    "import cPickle"
   ]
  },
  {
   "cell_type": "code",
   "execution_count": null,
   "metadata": {},
   "outputs": [],
   "source": [
    "NoiseArraysFile=open(\"NoiseArrays.pkl\",'rb')\n",
    "NoiseArray=cPickle.load(NoiseArraysFile)[:,0:3000]\n",
    "NoiseArraysFile.close()"
   ]
  },
  {
   "cell_type": "code",
   "execution_count": null,
   "metadata": {},
   "outputs": [],
   "source": [
    "pylab.figure(figsize=(15,1))\n",
    "pylab.imshow(NoiseArray,cmap='binary')\n",
    "\n"
   ]
  },
  {
   "cell_type": "code",
   "execution_count": null,
   "metadata": {},
   "outputs": [],
   "source": [
    "NoiseFFT=np.fft.rfft2(NoiseArray)"
   ]
  },
  {
   "cell_type": "code",
   "execution_count": null,
   "metadata": {},
   "outputs": [],
   "source": [
    "pylab.imshow(np.log(np.abs(NoiseFFT)))"
   ]
  },
  {
   "cell_type": "code",
   "execution_count": null,
   "metadata": {},
   "outputs": [],
   "source": [
    "RandomRephase=np.random.uniform(0,6.28,np.shape(NoiseFFT))\n"
   ]
  },
  {
   "cell_type": "code",
   "execution_count": null,
   "metadata": {},
   "outputs": [],
   "source": [
    "RandomNoise=np.abs(np.fft.irfft2(NoiseFFT*np.exp(RandomRephase*1j)))"
   ]
  },
  {
   "cell_type": "code",
   "execution_count": null,
   "metadata": {},
   "outputs": [],
   "source": [
    "pylab.figure(figsize=(15,1))\n",
    "pylab.imshow(NoiseArray,cmap='binary',clim=(0,255))\n",
    "\n",
    "for i in range(0,10):\n",
    "    RandomRephase=np.random.uniform(0,6.28,np.shape(NoiseFFT))\n",
    "    RandomRephase[0,0]=0\n",
    "    RandomNoise=np.abs(np.fft.irfft2(NoiseFFT*np.exp(RandomRephase*1j)))\n",
    "\n",
    "    pylab.figure(figsize=(15,1))\n",
    "    pylab.imshow(RandomNoise,cmap='binary',clim=(0,255))\n",
    "\n"
   ]
  },
  {
   "cell_type": "code",
   "execution_count": null,
   "metadata": {},
   "outputs": [],
   "source": [
    "def LoadNoiseKernel():\n",
    "    NoiseArraysFile=open(\"NoiseArrays.pkl\",'rb')\n",
    "    NoiseArray=cPickle.load(NoiseArraysFile)[:,0:3000]\n",
    "    NoiseArraysFile.close()\n",
    "    NoiseFFT=np.fft.rfft2(NoiseArray)\n",
    "    \n",
    "NoiseFFT=LoadNoiseKernel()\n",
    "\n",
    "def NoiseBlast():\n",
    "    RandomRephase=np.random.uniform(0,6.28,np.shape(NoiseFFT))\n",
    "    RandomNoise=np.abs(np.fft.irfft2(NoiseFFT*np.exp(RandomRephase*1j)))\n",
    "    return RandomNoise\n",
    "    "
   ]
  },
  {
   "cell_type": "code",
   "execution_count": null,
   "metadata": {},
   "outputs": [],
   "source": [
    "def SampleNoise(RandomNoise,NTimes,Size):\n",
    "    ReturnImages=[]\n",
    "    for n in range(0,NTimes):\n",
    "        SampleAreaX=np.shape(RandomNoise)[0]-Size[0]\n",
    "        SampleAreaY=np.shape(RandomNoise)[1]-Size[1]\n",
    "        RX=int(np.random.uniform(0,SampleAreaX))\n",
    "        RY=int(np.random.uniform(0,SampleAreaY))\n",
    "        SampleImage=RandomNoise[RX:RX+Size[0],RY:RY+Size[1]]\n",
    "        ReturnImages.append(SampleImage)\n",
    "    return ReturnImages"
   ]
  },
  {
   "cell_type": "code",
   "execution_count": null,
   "metadata": {},
   "outputs": [],
   "source": [
    "AllSamples=[]\n",
    "HowManySamples=30000\n",
    "HowManyPerBlast=30\n",
    "for i in range(HowManySamples/HowManyPerBlast):\n",
    "    Samples=SampleIt(NoiseBlast(),HowManyPerBlast,(170,118))\n",
    "    for sample in Samples:\n",
    "        AllSamples.append(sample)\n",
    "    print(i*HowManyPerBlast)"
   ]
  },
  {
   "cell_type": "code",
   "execution_count": null,
   "metadata": {},
   "outputs": [],
   "source": [
    "NoiseSamplesFile=open(\"NoiseSamples.pkl\",'wb')\n",
    "cPickle.dump(AllSamples,NoiseSamplesFile)\n",
    "NoiseArraysFile.close()"
   ]
  },
  {
   "cell_type": "code",
   "execution_count": null,
   "metadata": {},
   "outputs": [],
   "source": []
  }
 ],
 "metadata": {
  "kernelspec": {
   "display_name": "Python 3",
   "language": "python",
   "name": "python3"
  },
  "language_info": {
   "codemirror_mode": {
    "name": "ipython",
    "version": 2
   },
   "file_extension": ".py",
   "mimetype": "text/x-python",
   "name": "python",
   "nbconvert_exporter": "python",
   "pygments_lexer": "ipython2",
   "version": "2.7.15"
  }
 },
 "nbformat": 4,
 "nbformat_minor": 2
}
